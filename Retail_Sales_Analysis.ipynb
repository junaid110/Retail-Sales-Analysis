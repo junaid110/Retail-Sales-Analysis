{
  "nbformat": 4,
  "nbformat_minor": 0,
  "metadata": {
    "colab": {
      "provenance": []
    },
    "kernelspec": {
      "name": "python3",
      "display_name": "Python 3"
    },
    "language_info": {
      "name": "python"
    }
  },
  "cells": [
    {
      "cell_type": "code",
      "execution_count": 1,
      "metadata": {
        "id": "VWI1jsjSFBbX"
      },
      "outputs": [],
      "source": [
        "import pandas as pd\n",
        "import matplotlib.pyplot as plt\n"
      ]
    },
    {
      "cell_type": "code",
      "source": [
        "class RetailSalesAnalyzer:\n",
        "    def __init__(self):  # Corrected method name\n",
        "        self.data = pd.read_csv('/content/sample_data/mnist_test.csv)\n",
        "        self.data ['Data'] = pd.to_datetime(self.data['Data'])  #convert into string\n",
        "\n",
        " # Now Data Cleaning\n",
        "    def data_clean(self):\n",
        "      self.data.dropna(inplace=True)   # Cleaning the null rows & column\n",
        "\n",
        " # Data Manipulation & Analysis\n",
        " # Calculate Total Sales per Product\n",
        "     def total_sales_per_product(self):\n",
        "      return self.data.groupby('Product')['Sales'].sum()   # Group the data based on this product column & for every\n",
        "                                                           # product do the sum of sales\n",
        "\n",
        " #Identify Best Selling Product\n",
        "      def best_selling_product(self):\n",
        "        return self.total_sales_per_product().sort_values(ascending= False).index[0]\n",
        "\n",
        "# Computre Average Daily Sales\n",
        "      def average_sales_data(self):\n",
        "        return self.data['Sales'].mean()\n",
        "\n",
        " # 4. Visualization\n",
        " # Plot Sales Trends Over Time\n",
        "      def plot_sales_trends(self):\n",
        "        self.data.groupby('Date')['Sales'].sum().plot(kind='line')\n",
        "        plt.title('Sales Trends Over Time')\n",
        "        plt.xlabel('Date')\n",
        "        plt.ylabel('Sales')\n",
        "        plt.Show()\n",
        "\n",
        "# Display Sales Per Product in a Bar Chat\n",
        "      def sales_per_product(self):\n",
        "        self.total_sales_per_product().plt(kind='bar')\n",
        "        plt.title('Sales Per Product')\n",
        "        plt.xlabel('Product')\n",
        "        plt.ylabel('Total Sales')\n",
        "        plt.Show()\n",
        "\n",
        "# Script Execution\n"
      ],
      "metadata": {
        "colab": {
          "base_uri": "https://localhost:8080/",
          "height": 106
        },
        "id": "Oy6eutheFXRw",
        "outputId": "8d4ab7fc-ffc5-4f57-906d-459ac12fd606"
      },
      "execution_count": 4,
      "outputs": [
        {
          "output_type": "error",
          "ename": "SyntaxError",
          "evalue": "unterminated string literal (detected at line 3) (<ipython-input-4-8f986b79a4b2>, line 3)",
          "traceback": [
            "\u001b[0;36m  File \u001b[0;32m\"<ipython-input-4-8f986b79a4b2>\"\u001b[0;36m, line \u001b[0;32m3\u001b[0m\n\u001b[0;31m    self.data = pd.read_csv('r/content/sample_data/mnist_test.csv)  #\u001b[0m\n\u001b[0m                            ^\u001b[0m\n\u001b[0;31mSyntaxError\u001b[0m\u001b[0;31m:\u001b[0m unterminated string literal (detected at line 3)\n"
          ]
        }
      ]
    },
    {
      "cell_type": "code",
      "source": [
        "\n",
        "# Script Execution\n",
        "\n",
        "analyzer = RetailSalesAnalyzer()\n",
        "print('Total Sales Per Product: \\n ', analyzer.total_sales_per_product())\n",
        "print('Best Selling Product: \\n ', analyzer.best_selling_product())\n",
        "print('Average Daily Sales: \\n ', analyzer.average_sales_data(())\n",
        "analyzer.plot_sales_trends())\n",
        "analyzer.sales_per_product())\n"
      ],
      "metadata": {
        "id": "fWxN90nQMVlD"
      },
      "execution_count": null,
      "outputs": []
    }
  ]
}